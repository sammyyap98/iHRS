{
  "cells": [
    {
      "cell_type": "markdown",
      "metadata": {
        "id": "view-in-github",
        "colab_type": "text"
      },
      "source": [
        "<a href=\"https://colab.research.google.com/github/sammyyap98/iHRS/blob/main/Medical_report_analysis_demo.ipynb\" target=\"_parent\"><img src=\"https://colab.research.google.com/assets/colab-badge.svg\" alt=\"Open In Colab\"/></a>"
      ]
    },
    {
      "cell_type": "markdown",
      "metadata": {
        "id": "pXDQeUmFn-zk"
      },
      "source": [
        "# Medical Report Analysis"
      ]
    },
    {
      "cell_type": "code",
      "execution_count": null,
      "metadata": {
        "id": "Q6Aah8mzn-zn"
      },
      "outputs": [],
      "source": [
        "from openai import OpenAI\n",
        "from IPython.display import Image\n",
        "\n",
        "client = OpenAI(api_key = 'apikey-')"
      ]
    },
    {
      "cell_type": "code",
      "execution_count": null,
      "metadata": {
        "id": "wQp_3sxyn-zo"
      },
      "outputs": [],
      "source": [
        "Task = \"Analyze the medical report image provided, list the corresponding body system(s) it relates to, and give a rating from 1 to 10 for each identified system based on the patient's condition, where 10 is the best condition. Also, provide a one-sentence explanation for each rating. Format the response as follows: 'Correspond system(s): [system1], [system2]\\n[system1]: [rating]/10 - Explanation.\\n[system2]: [rating]/10 - Explanation.' Consider these systems: skeletal, muscular, nervous, endocrine, cardiovascular, hematologic, lymphatic, respiratory, digestive, urinary, reproductive.\""
      ]
    },
    {
      "cell_type": "code",
      "execution_count": null,
      "metadata": {
        "id": "smDwCLVSn-zp",
        "outputId": "58ed644a-42bf-43af-a035-fcad17017943"
      },
      "outputs": [
        {
          "data": {
            "text/html": [
              "<img src=\"https://images.drlogy.com/assets/uploads/lab/image/cbc-test-report-format-example-sample-template-drlogy-lab-report.webp\" width=\"400\" height=\"500\"/>"
            ],
            "text/plain": [
              "<IPython.core.display.Image object>"
            ]
          },
          "execution_count": 46,
          "metadata": {},
          "output_type": "execute_result"
        }
      ],
      "source": [
        "Img_url = \"https://images.drlogy.com/assets/uploads/lab/image/cbc-test-report-format-example-sample-template-drlogy-lab-report.webp\"\n",
        "Image(url=Img_url, width=400, height=500)"
      ]
    },
    {
      "cell_type": "code",
      "execution_count": null,
      "metadata": {
        "id": "49xQY60Un-zp",
        "outputId": "6658ca36-e61b-4724-b3d6-331f324da579"
      },
      "outputs": [
        {
          "name": "stdout",
          "output_type": "stream",
          "text": [
            "Choice(finish_reason='stop', index=0, logprobs=None, message=ChatCompletionMessage(content='Corresponding system(s): Hematologic, Cardiovascular\\n\\nHematologic: 6/10 - Explanation: The patient has a low hemoglobin level and a high packed cell volume (PCV), indicating a potential issue with the red blood cells, and an interpretation suggesting anemia is present.\\nCardiovascular: 7/10 - Explanation: While the complete blood count does not directly assess the cardiovascular system, abnormal CBC values like the ones presented can impact cardiovascular function, hence the rating slightly lower than optimal due to the potential for anemia to affect cardiac output and oxygen delivery.', role='assistant', function_call=None, tool_calls=None))\n"
          ]
        }
      ],
      "source": [
        "response = client.chat.completions.create(\n",
        "  model=\"gpt-4-vision-preview\",\n",
        "  messages=[\n",
        "    {\n",
        "      \"role\": \"system\",\n",
        "      \"content\": Task\n",
        "    },\n",
        "    {\n",
        "      \"role\": \"user\",\n",
        "      \"content\": [\n",
        "        {\n",
        "          \"type\": \"image_url\",\n",
        "          \"image_url\": {\n",
        "            \"url\": Img_url,\n",
        "          },\n",
        "        },\n",
        "      ],\n",
        "    }\n",
        "  ],\n",
        "  max_tokens=300,\n",
        ")\n",
        "print(response.choices[0])"
      ]
    },
    {
      "cell_type": "code",
      "execution_count": null,
      "metadata": {
        "id": "nPLNEVWPn-zq",
        "outputId": "1c68a443-09f9-4541-f493-298063d474f2"
      },
      "outputs": [
        {
          "name": "stdout",
          "output_type": "stream",
          "text": [
            "Corresponding system(s): Hematologic, Cardiovascular\n",
            "\n",
            "Hematologic: 6/10 - Explanation: The patient has a low hemoglobin level and a high packed cell volume (PCV), indicating a potential issue with the red blood cells, and an interpretation suggesting anemia is present.\n",
            "Cardiovascular: 7/10 - Explanation: While the complete blood count does not directly assess the cardiovascular system, abnormal CBC values like the ones presented can impact cardiovascular function, hence the rating slightly lower than optimal due to the potential for anemia to affect cardiac output and oxygen delivery.\n"
          ]
        }
      ],
      "source": [
        "print(response.choices[0].message.content)"
      ]
    }
  ],
  "metadata": {
    "colab": {
      "provenance": [],
      "include_colab_link": true
    },
    "kernelspec": {
      "display_name": "Python 3",
      "name": "python3"
    },
    "language_info": {
      "codemirror_mode": {
        "name": "ipython",
        "version": 3
      },
      "file_extension": ".py",
      "mimetype": "text/x-python",
      "name": "python",
      "nbconvert_exporter": "python",
      "pygments_lexer": "ipython3",
      "version": "3.10.5"
    }
  },
  "nbformat": 4,
  "nbformat_minor": 0
}